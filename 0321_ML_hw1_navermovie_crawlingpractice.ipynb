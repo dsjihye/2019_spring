{
 "cells": [
  {
   "cell_type": "code",
   "execution_count": 4,
   "metadata": {},
   "outputs": [],
   "source": [
    "from bs4 import BeautifulSoup\n",
    "import urllib.request\n",
    "from urllib.parse import quote\n",
    "import json\n",
    "import re\n",
    "import requests\n",
    " \n",
    "#네이버 검색 Open API 사용 요청시 얻게되는 정보를 입력합니다\n",
    "naver_client_id = 'PbDkBrbwVr7E0kjp_eBN'\n",
    "naver_client_secret = 'SXuLVGIhRh'\n",
    " \n",
    "def cleanhtml(raw_html):\n",
    "    cleanr = re.compile('<.*?>')\n",
    "    cleantext = re.sub(cleanr, '', raw_html)\n",
    "    return cleantext\n",
    " \n"
   ]
  },
  {
   "cell_type": "code",
   "execution_count": 71,
   "metadata": {},
   "outputs": [],
   "source": [
    "def searchByTitle(title):\n",
    "    myurl = 'https://openapi.naver.com/v1/search/movie.json?display=100&query=' + quote(title)\n",
    "    request = urllib.request.Request(myurl)\n",
    "    request.add_header(\"X-Naver-Client-Id\",naver_client_id)\n",
    "    request.add_header(\"X-Naver-Client-Secret\",naver_client_secret)\n",
    "    response = urllib.request.urlopen(request)\n",
    "    rescode = response.getcode()\n",
    "    if(rescode==200):\n",
    "        response_body = response.read()\n",
    "        d = json.loads(response_body.decode('utf-8'))\n",
    "        if (len(d['items']) > 0):\n",
    "            return d['items']\n",
    "        else:\n",
    "            return None\n",
    " \n",
    "    else:\n",
    "        print(\"Error Code:\" + rescode)"
   ]
  },
  {
   "cell_type": "code",
   "execution_count": 81,
   "metadata": {},
   "outputs": [],
   "source": [
    "def findItemByInput(items):\n",
    "    for index, item in enumerate(items):\n",
    "        navertitle = cleanhtml(item['title'])\n",
    "        naversubtitle = cleanhtml(item['subtitle'])\n",
    "        naverpubdate = cleanhtml(item['pubDate'])\n",
    "        naveractor = cleanhtml(item['actor'])\n",
    "        naverlink = cleanhtml(item['link'])\n",
    "        naveruserScore = cleanhtml(item['userRating'])\n",
    " \n",
    "        navertitle1 = navertitle.replace(\" \",\"\")\n",
    "        navertitle1 = navertitle1.replace(\"-\", \",\")\n",
    "        navertitle1 = navertitle1.replace(\":\", \",\")\n",
    " \n",
    "        #기자 평론가 평점을 얻어 옵니다\n",
    "        spScore = getSpecialScore(naverlink)\n",
    " \n",
    "        #네이버가 다루는 영화 고유 ID를 얻어 옵니다다\n",
    "        naverid = re.split(\"code=\", naverlink)[1]\n",
    " \n",
    "        # 영화의 타이틀 이미지를 표시합니다\n",
    "        # if (item['image'] != None and \"http\" in item['image']):\n",
    "        #    response = requests.get(item['image'])\n",
    "        #    img = Image.open(BytesIO(response.content))\n",
    "        #    img.show()\n",
    " \n",
    "        print(index, navertitle, naversubtitle, naveruserScore, spScore)"
   ]
  },
  {
   "cell_type": "code",
   "execution_count": 73,
   "metadata": {},
   "outputs": [],
   "source": [
    "def getInfoFromNaver(searchTitle):\n",
    "    items = searchByTitle(searchTitle)\n",
    " \n",
    "    if (items != None):\n",
    "        findItemByInput(items)\n",
    "    else:\n",
    "        print(\"No result\")\n"
   ]
  },
  {
   "cell_type": "code",
   "execution_count": 74,
   "metadata": {},
   "outputs": [],
   "source": [
    "def get_soup(url):\n",
    "    source_code = requests.get(url)\n",
    "    plain_text = source_code.text\n",
    "    soup = BeautifulSoup(plain_text, 'lxml')\n",
    "    return soup\n",
    " \n"
   ]
  },
  {
   "cell_type": "code",
   "execution_count": 75,
   "metadata": {},
   "outputs": [],
   "source": [
    "#기자 평론가 평점을 얻어 옵니다\n",
    "def getSpecialScore(URL):\n",
    "    soup = get_soup(URL)\n",
    "    scorearea = soup.find_all('div', \"spc_score_area\")\n",
    "    newsoup = BeautifulSoup(str(scorearea), 'lxml')\n",
    "    score = newsoup.find_all('em')\n",
    "    if (score and len(score) > 5):\n",
    "        scoreis = score[1].text + score[2].text + score[3].text + score[4].text\n",
    "        return float(scoreis)\n",
    "    else:\n",
    "        return 0.0\n",
    " "
   ]
  },
  {
   "cell_type": "code",
   "execution_count": 76,
   "metadata": {},
   "outputs": [],
   "source": [
    "import pandas as pd"
   ]
  },
  {
   "cell_type": "code",
   "execution_count": 82,
   "metadata": {},
   "outputs": [
    {
     "name": "stdout",
     "output_type": "stream",
     "text": [
      "0 택시운전사 A Taxi Driver 9.04 6.09\n",
      "1 택시 운전사의 사랑 Midnight My Love 8.56 0.0\n",
      "2 택시 운전사의 사랑 The Cabbie 5.50 0.0\n",
      "0 신과함께-죄와 벌 Along With the Gods: The Two Worlds 7.83 5.92\n",
      "0 공조 Confidential Assignment 8.27 5.0\n",
      "0 스파이더맨: 파 프롬 홈 Spider-Man: Far From Home 9.24 0.0\n",
      "1 스파이더맨: 홈커밍 Spider-Man: Homecoming 8.37 7.0\n",
      "0 대범죄도시: 나쁜녀석들 The Scoundrels 0.00 0.0\n",
      "1 범죄도시 THE OUTLAWS 9.14 6.0\n",
      "2 바이스: 범죄도시 Vice 4.18 0.0\n",
      "3 줄루 범죄도시 Zulu 7.56 0.0\n",
      "4 범죄도시 What Doesn't Kill You 7.70 0.0\n"
     ]
    }
   ],
   "source": [
    "import time\n",
    "from selenium import webdriver\n",
    "import xlrd\n",
    "from xlutils.copy import copy\n",
    "from selenium.common.exceptions import NoSuchElementException,StaleElementReferenceException\n",
    "import os\n",
    "new_list = []\n",
    "for i in range(0,5):\n",
    "# 엑셀 파일 열기\n",
    "    wb = xlrd.open_workbook('KOBIS_300.xlsx')\n",
    "    sheet = wb.sheet_by_index(0)\n",
    "    copy_wb = copy(wb)\n",
    "    copy_sheet = copy_wb.get_sheet(0)\n",
    "# 검색 키워드 셀에서 가져오기\n",
    "    name = sheet.cell(i+1, 1).value\n",
    "    keyword = str(name) #숫자인 경우가 있어서 str()\n",
    "\n",
    "#getInfoFromNaver(u\"더 킹\")\n",
    "    #getInfoFromNaver(keyword)\n",
    "    \n",
    "    new_list.append(getInfoFromNaver(keyword))\n",
    "   # df = pd.DataFrame(getInfoFromNaver(keyword))  \n",
    "    "
   ]
  },
  {
   "cell_type": "code",
   "execution_count": 83,
   "metadata": {},
   "outputs": [
    {
     "data": {
      "text/plain": [
       "[None, None, None, None, None]"
      ]
     },
     "execution_count": 83,
     "metadata": {},
     "output_type": "execute_result"
    }
   ],
   "source": [
    "new_list"
   ]
  },
  {
   "cell_type": "code",
   "execution_count": null,
   "metadata": {},
   "outputs": [],
   "source": []
  }
 ],
 "metadata": {
  "kernelspec": {
   "display_name": "Python 3",
   "language": "python",
   "name": "python3"
  },
  "language_info": {
   "codemirror_mode": {
    "name": "ipython",
    "version": 3
   },
   "file_extension": ".py",
   "mimetype": "text/x-python",
   "name": "python",
   "nbconvert_exporter": "python",
   "pygments_lexer": "ipython3",
   "version": "3.7.1"
  }
 },
 "nbformat": 4,
 "nbformat_minor": 2
}
